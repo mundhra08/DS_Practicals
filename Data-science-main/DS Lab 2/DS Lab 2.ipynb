{
 "cells": [
  {
   "cell_type": "markdown",
   "id": "23e91121",
   "metadata": {},
   "source": [
    "Create an “Academic performance” dataset of students and perform the following operations using \n",
    "Python.\n",
    "1. Scan all variables for missing values and inconsistencies. If there are missing values and/or \n",
    "inconsistencies, use any of the suitable techniques to deal with them.\n",
    "2. Scan all numeric variables for outliers. If there are outliers, use any of the suitable techniques \n",
    "to deal with them.\n",
    "3. Apply data transformations on at least one of the variables. The purpose of this \n",
    "transformation should be one of the following reasons: to change the scale for better \n",
    "understanding of the variable, to convert a non-linear relation into a linear one, or to decrease \n",
    "the skewness and convert the distribution into a normal distribution."
   ]
  },
  {
   "cell_type": "code",
   "execution_count": 17,
   "id": "5d410af0",
   "metadata": {},
   "outputs": [],
   "source": [
    "#import libraries\n",
    "import numpy as np\n",
    "import pandas as pd\n",
    "import matplotlib.pyplot as plt"
   ]
  },
  {
   "cell_type": "code",
   "execution_count": 4,
   "id": "06f8536f",
   "metadata": {},
   "outputs": [],
   "source": [
    "df=pd.read_csv('StudentsPerformance1.csv')"
   ]
  },
  {
   "cell_type": "code",
   "execution_count": 5,
   "id": "1d7fea1d",
   "metadata": {},
   "outputs": [
    {
     "data": {
      "text/html": [
       "<div>\n",
       "<style scoped>\n",
       "    .dataframe tbody tr th:only-of-type {\n",
       "        vertical-align: middle;\n",
       "    }\n",
       "\n",
       "    .dataframe tbody tr th {\n",
       "        vertical-align: top;\n",
       "    }\n",
       "\n",
       "    .dataframe thead th {\n",
       "        text-align: right;\n",
       "    }\n",
       "</style>\n",
       "<table border=\"1\" class=\"dataframe\">\n",
       "  <thead>\n",
       "    <tr style=\"text-align: right;\">\n",
       "      <th></th>\n",
       "      <th>gender</th>\n",
       "      <th>race/ethnicity</th>\n",
       "      <th>parental level of education</th>\n",
       "      <th>lunch</th>\n",
       "      <th>test preparation course</th>\n",
       "      <th>math score</th>\n",
       "      <th>reading score</th>\n",
       "      <th>writing score</th>\n",
       "    </tr>\n",
       "  </thead>\n",
       "  <tbody>\n",
       "    <tr>\n",
       "      <th>0</th>\n",
       "      <td>female</td>\n",
       "      <td>group B</td>\n",
       "      <td>bachelor's degree</td>\n",
       "      <td>standard</td>\n",
       "      <td>none</td>\n",
       "      <td>72.0</td>\n",
       "      <td>72.0</td>\n",
       "      <td>74.0</td>\n",
       "    </tr>\n",
       "    <tr>\n",
       "      <th>1</th>\n",
       "      <td>female</td>\n",
       "      <td>group C</td>\n",
       "      <td>some college</td>\n",
       "      <td>standard</td>\n",
       "      <td>completed</td>\n",
       "      <td>69.0</td>\n",
       "      <td>90.0</td>\n",
       "      <td>88.0</td>\n",
       "    </tr>\n",
       "    <tr>\n",
       "      <th>2</th>\n",
       "      <td>female</td>\n",
       "      <td>group B</td>\n",
       "      <td>master's degree</td>\n",
       "      <td>standard</td>\n",
       "      <td>none</td>\n",
       "      <td>90.0</td>\n",
       "      <td>95.0</td>\n",
       "      <td>93.0</td>\n",
       "    </tr>\n",
       "    <tr>\n",
       "      <th>3</th>\n",
       "      <td>male</td>\n",
       "      <td>group A</td>\n",
       "      <td>associate's degree</td>\n",
       "      <td>free/reduced</td>\n",
       "      <td>none</td>\n",
       "      <td>47.0</td>\n",
       "      <td>57.0</td>\n",
       "      <td>44.0</td>\n",
       "    </tr>\n",
       "    <tr>\n",
       "      <th>4</th>\n",
       "      <td>male</td>\n",
       "      <td>group C</td>\n",
       "      <td>some college</td>\n",
       "      <td>standard</td>\n",
       "      <td>none</td>\n",
       "      <td>76.0</td>\n",
       "      <td>78.0</td>\n",
       "      <td>75.0</td>\n",
       "    </tr>\n",
       "  </tbody>\n",
       "</table>\n",
       "</div>"
      ],
      "text/plain": [
       "   gender race/ethnicity parental level of education         lunch  \\\n",
       "0  female        group B           bachelor's degree      standard   \n",
       "1  female        group C                some college      standard   \n",
       "2  female        group B             master's degree      standard   \n",
       "3    male        group A          associate's degree  free/reduced   \n",
       "4    male        group C                some college      standard   \n",
       "\n",
       "  test preparation course  math score  reading score  writing score  \n",
       "0                    none        72.0           72.0           74.0  \n",
       "1               completed        69.0           90.0           88.0  \n",
       "2                    none        90.0           95.0           93.0  \n",
       "3                    none        47.0           57.0           44.0  \n",
       "4                    none        76.0           78.0           75.0  "
      ]
     },
     "execution_count": 5,
     "metadata": {},
     "output_type": "execute_result"
    }
   ],
   "source": [
    "df.head()"
   ]
  },
  {
   "cell_type": "code",
   "execution_count": 7,
   "id": "81c702bd",
   "metadata": {},
   "outputs": [
    {
     "data": {
      "text/plain": [
       "(1000, 8)"
      ]
     },
     "execution_count": 7,
     "metadata": {},
     "output_type": "execute_result"
    }
   ],
   "source": [
    "df.shape"
   ]
  },
  {
   "cell_type": "code",
   "execution_count": 8,
   "id": "5a323558",
   "metadata": {},
   "outputs": [
    {
     "data": {
      "text/plain": [
       "gender                          object\n",
       "race/ethnicity                  object\n",
       "parental level of education     object\n",
       "lunch                           object\n",
       "test preparation course         object\n",
       "math score                     float64\n",
       "reading score                  float64\n",
       "writing score                  float64\n",
       "dtype: object"
      ]
     },
     "execution_count": 8,
     "metadata": {},
     "output_type": "execute_result"
    }
   ],
   "source": [
    "df.dtypes"
   ]
  },
  {
   "cell_type": "code",
   "execution_count": 9,
   "id": "e6f7373d",
   "metadata": {},
   "outputs": [
    {
     "data": {
      "text/html": [
       "<div>\n",
       "<style scoped>\n",
       "    .dataframe tbody tr th:only-of-type {\n",
       "        vertical-align: middle;\n",
       "    }\n",
       "\n",
       "    .dataframe tbody tr th {\n",
       "        vertical-align: top;\n",
       "    }\n",
       "\n",
       "    .dataframe thead th {\n",
       "        text-align: right;\n",
       "    }\n",
       "</style>\n",
       "<table border=\"1\" class=\"dataframe\">\n",
       "  <thead>\n",
       "    <tr style=\"text-align: right;\">\n",
       "      <th></th>\n",
       "      <th>math score</th>\n",
       "      <th>reading score</th>\n",
       "      <th>writing score</th>\n",
       "    </tr>\n",
       "  </thead>\n",
       "  <tbody>\n",
       "    <tr>\n",
       "      <th>count</th>\n",
       "      <td>996.000000</td>\n",
       "      <td>993.000000</td>\n",
       "      <td>998.00000</td>\n",
       "    </tr>\n",
       "    <tr>\n",
       "      <th>mean</th>\n",
       "      <td>65.964859</td>\n",
       "      <td>69.144008</td>\n",
       "      <td>67.90481</td>\n",
       "    </tr>\n",
       "    <tr>\n",
       "      <th>std</th>\n",
       "      <td>15.490628</td>\n",
       "      <td>15.198167</td>\n",
       "      <td>15.73355</td>\n",
       "    </tr>\n",
       "    <tr>\n",
       "      <th>min</th>\n",
       "      <td>-2.000000</td>\n",
       "      <td>-3.000000</td>\n",
       "      <td>-45.00000</td>\n",
       "    </tr>\n",
       "    <tr>\n",
       "      <th>25%</th>\n",
       "      <td>57.000000</td>\n",
       "      <td>59.000000</td>\n",
       "      <td>57.00000</td>\n",
       "    </tr>\n",
       "    <tr>\n",
       "      <th>50%</th>\n",
       "      <td>66.000000</td>\n",
       "      <td>70.000000</td>\n",
       "      <td>69.00000</td>\n",
       "    </tr>\n",
       "    <tr>\n",
       "      <th>75%</th>\n",
       "      <td>77.000000</td>\n",
       "      <td>80.000000</td>\n",
       "      <td>79.00000</td>\n",
       "    </tr>\n",
       "    <tr>\n",
       "      <th>max</th>\n",
       "      <td>102.000000</td>\n",
       "      <td>130.000000</td>\n",
       "      <td>100.00000</td>\n",
       "    </tr>\n",
       "  </tbody>\n",
       "</table>\n",
       "</div>"
      ],
      "text/plain": [
       "       math score  reading score  writing score\n",
       "count  996.000000     993.000000      998.00000\n",
       "mean    65.964859      69.144008       67.90481\n",
       "std     15.490628      15.198167       15.73355\n",
       "min     -2.000000      -3.000000      -45.00000\n",
       "25%     57.000000      59.000000       57.00000\n",
       "50%     66.000000      70.000000       69.00000\n",
       "75%     77.000000      80.000000       79.00000\n",
       "max    102.000000     130.000000      100.00000"
      ]
     },
     "execution_count": 9,
     "metadata": {},
     "output_type": "execute_result"
    }
   ],
   "source": [
    "df.describe()"
   ]
  },
  {
   "cell_type": "markdown",
   "id": "98d2bbd6",
   "metadata": {},
   "source": [
    "from the above code we can analyse that the data has missing values as well as outlier values that can be determined by\n",
    "count of math score- 996,reading score-993,writing score-998 values out of 1000 values in the dataframe\n",
    "min  of math score=-2,reading score=-3 and writing score=-45 here the score cannot be below 0, hence outlier values\n",
    "max  of math score=102,reading score=130 here the score cannot be above 100, hence outlier values"
   ]
  },
  {
   "cell_type": "markdown",
   "id": "60b75dfa",
   "metadata": {},
   "source": [
    "Data cleaning "
   ]
  },
  {
   "cell_type": "code",
   "execution_count": 10,
   "id": "7d93d074",
   "metadata": {},
   "outputs": [
    {
     "data": {
      "text/plain": [
       "gender                         0\n",
       "race/ethnicity                 0\n",
       "parental level of education    0\n",
       "lunch                          0\n",
       "test preparation course        0\n",
       "math score                     4\n",
       "reading score                  7\n",
       "writing score                  2\n",
       "dtype: int64"
      ]
     },
     "execution_count": 10,
     "metadata": {},
     "output_type": "execute_result"
    }
   ],
   "source": [
    "df.isna().sum()"
   ]
  },
  {
   "cell_type": "markdown",
   "id": "66443a15",
   "metadata": {},
   "source": [
    "Fill the missing values with mean values of their respective columns"
   ]
  },
  {
   "cell_type": "code",
   "execution_count": 11,
   "id": "772f1d49",
   "metadata": {},
   "outputs": [],
   "source": [
    "df['math score'].fillna(df['math score'].mean(),inplace=True)\n",
    "df['reading score'].fillna(df['reading score'].mean(),inplace=True)\n",
    "df['writing score'].fillna(df['writing score'].mean(),inplace=True)"
   ]
  },
  {
   "cell_type": "code",
   "execution_count": 12,
   "id": "691e2f16",
   "metadata": {},
   "outputs": [
    {
     "data": {
      "text/plain": [
       "gender                         0\n",
       "race/ethnicity                 0\n",
       "parental level of education    0\n",
       "lunch                          0\n",
       "test preparation course        0\n",
       "math score                     0\n",
       "reading score                  0\n",
       "writing score                  0\n",
       "dtype: int64"
      ]
     },
     "execution_count": 12,
     "metadata": {},
     "output_type": "execute_result"
    }
   ],
   "source": [
    "df.isna().sum()"
   ]
  },
  {
   "cell_type": "markdown",
   "id": "b57bb6e8",
   "metadata": {},
   "source": [
    "Missing values are hence managed"
   ]
  },
  {
   "cell_type": "markdown",
   "id": "2986798a",
   "metadata": {},
   "source": [
    "  Outlier detection can be done using \n",
    "  1.Interquartile range\n",
    "  2.Box plot\n",
    "  3.Scatter plot\n",
    "  4.Z-score"
   ]
  },
  {
   "cell_type": "code",
   "execution_count": 31,
   "id": "0f85f632",
   "metadata": {},
   "outputs": [
    {
     "data": {
      "image/png": "[encoded data removed]",
      "text/plain": [
       "<Figure size 432x288 with 1 Axes>"
      ]
     },
     "metadata": {
      "needs_background": "light"
     },
     "output_type": "display_data"
    }
   ],
   "source": [
    "plt.scatter(np.arange(0,1000),df['reading score'],c='b')\n",
    "plt.show()"
   ]
  },
  {
   "cell_type": "markdown",
   "id": "1c5b3530",
   "metadata": {},
   "source": [
    "In this plot we can see that some values are below 0 and above 100, these are the outlier values"
   ]
  },
  {
   "cell_type": "code",
   "execution_count": 32,
   "id": "5def8152",
   "metadata": {},
   "outputs": [
    {
     "data": {
      "text/plain": [
       "<matplotlib.collections.PathCollection at 0x169b5df0>"
      ]
     },
     "execution_count": 32,
     "metadata": {},
     "output_type": "execute_result"
    },
    {
     "data": {
      "image/png": "[encoded data removed]",
      "text/plain": [
       "<Figure size 432x288 with 1 Axes>"
      ]
     },
     "metadata": {
      "needs_background": "light"
     },
     "output_type": "display_data"
    }
   ],
   "source": [
    "plt.scatter(np.arange(0,1000),df['math score'],c='r')"
   ]
  },
  {
   "cell_type": "markdown",
   "id": "a7e211c0",
   "metadata": {},
   "source": [
    "In this plot we can see that some values are below 0 and above 100, these are the outlier values"
   ]
  },
  {
   "cell_type": "code",
   "execution_count": 33,
   "id": "a5870e23",
   "metadata": {},
   "outputs": [
    {
     "data": {
      "text/plain": [
       "<matplotlib.collections.PathCollection at 0x16942838>"
      ]
     },
     "execution_count": 33,
     "metadata": {},
     "output_type": "execute_result"
    },
    {
     "data": {
      "image/png": "[encoded data removed]",
      "text/plain": [
       "<Figure size 432x288 with 1 Axes>"
      ]
     },
     "metadata": {
      "needs_background": "light"
     },
     "output_type": "display_data"
    }
   ],
   "source": [
    "plt.scatter(np.arange(0,1000),df['reading score'],c='g')"
   ]
  },
  {
   "cell_type": "code",
   "execution_count": 30,
   "id": "4274bce3",
   "metadata": {},
   "outputs": [
    {
     "data": {
      "image/png": "[encoded data removed]",
      "text/plain": [
       "<Figure size 432x288 with 1 Axes>"
      ]
     },
     "metadata": {
      "needs_background": "light"
     },
     "output_type": "display_data"
    }
   ],
   "source": [
    "plt.boxplot(df['reading score'])\n",
    "# plt.boxplot(df['math score'])\n",
    "plt.show()"
   ]
  },
  {
   "cell_type": "code",
   "execution_count": 48,
   "id": "d6f795c8",
   "metadata": {},
   "outputs": [
    {
     "data": {
      "image/png": "[encoded data removed]",
      "text/plain": [
       "<Figure size 432x288 with 1 Axes>"
      ]
     },
     "metadata": {
      "needs_background": "light"
     },
     "output_type": "display_data"
    }
   ],
   "source": [
    "plt.boxplot(df['math score'])\n",
    "plt.show()"
   ]
  },
  {
   "cell_type": "code",
   "execution_count": 49,
   "id": "18e307ae",
   "metadata": {},
   "outputs": [
    {
     "data": {
      "image/png": "[encoded data removed]",
      "text/plain": [
       "<Figure size 432x288 with 1 Axes>"
      ]
     },
     "metadata": {
      "needs_background": "light"
     },
     "output_type": "display_data"
    }
   ],
   "source": [
    "plt.boxplot(df['writing score'])\n",
    "plt.show()"
   ]
  },
  {
   "cell_type": "code",
   "execution_count": 70,
   "id": "d21280b6",
   "metadata": {},
   "outputs": [
    {
     "name": "stdout",
     "output_type": "stream",
     "text": [
      "19.25\n",
      "Outlier indices: [ 17  59 824 833 980]\n",
      "18.0\n",
      "0.0\n",
      "-2.0\n",
      "-2.0\n",
      "8.0\n"
     ]
    }
   ],
   "source": [
    "q1 = np.percentile(df['math score'], 25)\n",
    "q3 = np.percentile(df['math score'], 75)\n",
    "iqr = q3 - q1\n",
    "\n",
    "print(iqr)\n",
    "# Define a threshold\n",
    "threshold = 2\n",
    "\n",
    "# Find outlier indices\n",
    "outlier_indices_mathscore = np.where((df['math score'] < q1 - threshold * iqr) | (df['math score'] > q3 + threshold * iqr))[0]\n",
    "\n",
    "print(\"Outlier indices:\", outlier_indices_mathscore)\n",
    "\n",
    "for i in outlier_indices_mathscore:\n",
    "    print(df['math score'][i])"
   ]
  },
  {
   "cell_type": "code",
   "execution_count": 71,
   "id": "290fc321",
   "metadata": {},
   "outputs": [
    {
     "name": "stdout",
     "output_type": "stream",
     "text": [
      "20.0\n",
      "Outlier indices: [  9  59 892 911]\n",
      "-1.0\n",
      "17.0\n",
      "130.0\n",
      "-3.0\n"
     ]
    }
   ],
   "source": [
    "q1 = np.percentile(df['reading score'], 25)\n",
    "q3 = np.percentile(df['reading score'], 75)\n",
    "iqr = q3 - q1\n",
    "\n",
    "print(iqr)\n",
    "# Define a threshold\n",
    "threshold = 2\n",
    "\n",
    "# Find outlier indices\n",
    "outlier_indices_readingscore = np.where((df['reading score'] < q1 - threshold * iqr) | (df['reading score'] > q3 + threshold * iqr))[0]\n",
    "\n",
    "print(\"Outlier indices:\", outlier_indices_readingscore)\n",
    "\n",
    "for i in outlier_indices_readingscore:\n",
    "    print(df['reading score'][i])"
   ]
  },
  {
   "cell_type": "code",
   "execution_count": 72,
   "id": "3d927c2f",
   "metadata": {},
   "outputs": [
    {
     "name": "stdout",
     "output_type": "stream",
     "text": [
      "22.0\n",
      "Outlier indices: [ 59 192 414]\n",
      "10.0\n",
      "-4.0\n",
      "-45.0\n"
     ]
    }
   ],
   "source": [
    "q1 = np.percentile(df['writing score'], 25)\n",
    "q3 = np.percentile(df['writing score'], 75)\n",
    "iqr = q3 - q1\n",
    "\n",
    "print(iqr)\n",
    "# Define a threshold\n",
    "threshold = 2\n",
    "\n",
    "# Find outlier indices\n",
    "outlier_indices_writingscore = np.where((df['writing score'] < q1 - threshold * iqr) | (df['writing score'] > q3 + threshold * iqr))[0]\n",
    "\n",
    "print(\"Outlier indices:\", outlier_indices_writingscore)\n",
    "\n",
    "for i in outlier_indices_writingscore:\n",
    "    print(df['writing score'][i])"
   ]
  },
  {
   "cell_type": "markdown",
   "id": "6cf01f1c",
   "metadata": {},
   "source": [
    "From the above data we get an idea of outlier values and their indices\n",
    "as these are marks we will only remove the values that are below 0 and above 100"
   ]
  },
  {
   "cell_type": "code",
   "execution_count": 75,
   "id": "99d0e931",
   "metadata": {},
   "outputs": [],
   "source": [
    "for i in outlier_indices_mathscore:\n",
    "    if(df['math score'][i]>100 or df['math score'][i]<0):\n",
    "        df=df.drop(i)\n"
   ]
  },
  {
   "cell_type": "code",
   "execution_count": 77,
   "id": "826289cd",
   "metadata": {},
   "outputs": [],
   "source": [
    "for i in outlier_indices_readingscore:\n",
    "    if(df['reading score'][i]>100 or df['reading score'][i]<0):\n",
    "        df=df.drop(i)"
   ]
  },
  {
   "cell_type": "code",
   "execution_count": 78,
   "id": "1ce953e1",
   "metadata": {},
   "outputs": [],
   "source": [
    "for i in outlier_indices_writingscore:\n",
    "    if(df['writing score'][i]>100 or df['writing score'][i]<0):\n",
    "        df=df.drop(i)"
   ]
  },
  {
   "cell_type": "code",
   "execution_count": 76,
   "id": "94a61291",
   "metadata": {},
   "outputs": [
    {
     "name": "stdout",
     "output_type": "stream",
     "text": [
      "19.75\n",
      "Outlier indices: [ 59 978]\n",
      "0.0\n",
      "55.0\n"
     ]
    }
   ],
   "source": [
    "q1 = np.percentile(df['math score'], 25)\n",
    "q3 = np.percentile(df['math score'], 75)\n",
    "iqr = q3 - q1\n",
    "\n",
    "print(iqr)\n",
    "# Define a threshold\n",
    "threshold = 2\n",
    "\n",
    "# Find outlier indices\n",
    "outlier_indices_mathscore = np.where((df['math score'] < q1 - threshold * iqr) | (df['math score'] > q3 + threshold * iqr))[0]\n",
    "\n",
    "print(\"Outlier indices:\", outlier_indices_mathscore)\n",
    "\n",
    "for i in outlier_indices_mathscore:\n",
    "    print(df['math score'][i])"
   ]
  },
  {
   "cell_type": "code",
   "execution_count": 79,
   "id": "46f3f9f2",
   "metadata": {},
   "outputs": [
    {
     "name": "stdout",
     "output_type": "stream",
     "text": [
      "20.0\n",
      "Outlier indices: [58]\n",
      "59.0\n"
     ]
    }
   ],
   "source": [
    "q1 = np.percentile(df['reading score'], 25)\n",
    "q3 = np.percentile(df['reading score'], 75)\n",
    "iqr = q3 - q1\n",
    "\n",
    "print(iqr)\n",
    "# Define a threshold\n",
    "threshold = 2\n",
    "\n",
    "# Find outlier indices\n",
    "outlier_indices_readingscore = np.where((df['reading score'] < q1 - threshold * iqr) | (df['reading score'] > q3 + threshold * iqr))[0]\n",
    "\n",
    "print(\"Outlier indices:\", outlier_indices_readingscore)\n",
    "\n",
    "for i in outlier_indices_readingscore:\n",
    "    print(df['reading score'][i])"
   ]
  },
  {
   "cell_type": "code",
   "execution_count": 80,
   "id": "51b80da0",
   "metadata": {},
   "outputs": [
    {
     "name": "stdout",
     "output_type": "stream",
     "text": [
      "21.0\n",
      "Outlier indices: [ 58 593]\n",
      "58.0\n",
      "73.0\n"
     ]
    }
   ],
   "source": [
    "q1 = np.percentile(df['writing score'], 25)\n",
    "q3 = np.percentile(df['writing score'], 75)\n",
    "iqr = q3 - q1\n",
    "\n",
    "print(iqr)\n",
    "# Define a threshold\n",
    "threshold = 2\n",
    "\n",
    "# Find outlier indices\n",
    "outlier_indices_writingscore = np.where((df['writing score'] < q1 - threshold * iqr) | (df['writing score'] > q3 + threshold * iqr))[0]\n",
    "\n",
    "print(\"Outlier indices:\", outlier_indices_writingscore)\n",
    "\n",
    "for i in outlier_indices_writingscore:\n",
    "    print(df['writing score'][i])"
   ]
  },
  {
   "cell_type": "markdown",
   "id": "a9012fc8",
   "metadata": {},
   "source": [
    "Hence the outliers and missing values were dropped from the dataframe"
   ]
  }
 ],
 "metadata": {
  "kernelspec": {
   "display_name": "Python 3 (ipykernel)",
   "language": "python",
   "name": "python3"
  },
  "language_info": {
   "codemirror_mode": {
    "name": "ipython",
    "version": 3
   },
   "file_extension": ".py",
   "mimetype": "text/x-python",
   "name": "python",
   "nbconvert_exporter": "python",
   "pygments_lexer": "ipython3",
   "version": "3.9.2"
  }
 },
 "nbformat": 4,
 "nbformat_minor": 5
}
